{
 "cells": [
  {
   "cell_type": "code",
   "execution_count": 1,
   "metadata": {},
   "outputs": [],
   "source": [
    "import pandas as pd\n",
    "from datetime import datetime\n",
    "from datetime import timedelta\n",
    "import numpy as np\n",
    "import matplotlib.pyplot as plt\n",
    "from matplotlib import style\n",
    "style.use('fivethirtyeight')\n",
    "from tqdm import tqdm\n",
    "import plotly.express as px\n",
    "import os\n",
    "import sys\n",
    "\n",
    "from scipy.optimize import minimize\n",
    "# code to manage where are lunch the file\n",
    "if str(os.getcwd()).split(\"/\")[-1] == \"notebooks\":\n",
    "    sys.path.insert(1, os.path.realpath(os.path.pardir))\n",
    "    path_b = \"../\"\n",
    "else:\n",
    "    path_b ='./'\n",
    "import config as c"
   ]
  },
  {
   "cell_type": "code",
   "execution_count": 2,
   "metadata": {},
   "outputs": [],
   "source": [
    "windows = c.windows\n",
    "number_crypto = c.number_cryptos\n",
    "market_cap = c.market_cap\n",
    "\n",
    "df_name_index = pd.read_csv(f\"{path_b}data/processed/first_{number_crypto}_crypto_list.csv\", index_col=0)\n",
    "df = pd.read_csv(f\"{path_b}data/processed/market_cap_crypto.csv\", index_col=0)\n",
    "\n",
    "df_close_price = pd.read_csv(f'{path_b}data/processed/close_price_crypto.csv', index_col=0)\n",
    "df_close_price['date'] = pd.to_datetime(df_close_price.index)\n",
    "df_close_price['date'] = df_close_price['date'].dt.date\n",
    "df_close_price.index = df_close_price['date']\n",
    "del df_close_price['date']"
   ]
  },
  {
   "cell_type": "code",
   "execution_count": 3,
   "metadata": {},
   "outputs": [
    {
     "name": "stderr",
     "output_type": "stream",
     "text": [
      "/Applications/anaconda3/lib/python3.8/site-packages/pandas/core/ops/array_ops.py:73: FutureWarning: Comparison of Timestamp with datetime.date is deprecated in order to match the standard library behavior.  In a future version these will be considered non-comparable.Use 'ts == pd.Timestamp(date)' or 'ts.date() == date' instead.\n",
      "  result = libops.scalar_compare(x.ravel(), y, op)\n"
     ]
    }
   ],
   "source": [
    "## use market cap file\n",
    "\n",
    "df_market_cap = pd.read_csv(f'{path_b}data/processed/crypto_date_marketcap_sorted.csv', index_col=0)\n",
    "\n",
    "\n",
    "df_market_cap_first_20 = df_market_cap.iloc[:number_crypto]\n",
    "\n",
    "#select last date\n",
    "first_date = df_market_cap_first_20['first_date_marketcap'].tail(1).values\n",
    "\n",
    "first_date_final = pd.to_datetime(first_date[0])\n",
    "\n",
    "df_final_data = df_close_price.drop(df_close_price[df_close_price.index < first_date_final].index)\n",
    "df_final_data = df_final_data[df_market_cap_first_20['crypto_name']]\n",
    "df_final_data_return = np.log(df_final_data/df_final_data.shift(1)).dropna()"
   ]
  },
  {
   "cell_type": "code",
   "execution_count": 4,
   "metadata": {},
   "outputs": [],
   "source": [
    "def MCR_calc(alloc, Returns):\n",
    "    \"\"\" \n",
    "    This function computes the marginal contribution to risk (MCR), which \n",
    "    determine how much the portfolio volatility would change if we increase\n",
    "    the weight of a particular asset.\n",
    "    \n",
    "    Parameters\n",
    "    ----------\n",
    "    alloc : TYPE\n",
    "        Weights in the investor's portfolio\n",
    "    Returns : TYPE\n",
    "        The returns of the portfolio's assets\n",
    "    Returns\n",
    "    -------\n",
    "    MCR : Object\n",
    "        Marginal contribution to risk (MCR)\n",
    "    \"\"\"\n",
    "    ptf=np.multiply(Returns,alloc)\n",
    "    ptfReturns=np.sum(ptf,1); # Summing across columns\n",
    "    vol_ptf=np.std(ptfReturns)\n",
    "    Sigma=np.cov(np.transpose(Returns))\n",
    "    MCR=np.matmul(Sigma,np.transpose(alloc))/vol_ptf\n",
    "    return MCR"
   ]
  },
  {
   "cell_type": "code",
   "execution_count": null,
   "metadata": {},
   "outputs": [
    {
     "name": "stderr",
     "output_type": "stream",
     "text": [
      " 11%|█         | 110/991 [02:04<15:57,  1.09s/it]"
     ]
    }
   ],
   "source": [
    "###ERC Allocation###\n",
    "def ERC(alloc,Returns):\n",
    "    \"\"\" \n",
    "    This function computes the Equally-Weighted Risk Contribution Portfolio (ERC),\n",
    "    which attributes the same risk contribution to all the assets.\n",
    "    \n",
    "    Parameters\n",
    "    ----------\n",
    "    alloc : TYPE\n",
    "        Weights in the investor's portfolio\n",
    "    Returns : TYPE\n",
    "        The returns of the portfolio's assets\n",
    "    Returns\n",
    "    -------\n",
    "    criterions : Object\n",
    "        Optimal weights of assets in the portfolio.\n",
    "    \"\"\"\n",
    "    ptf=np.multiply(Returns.iloc[:,:],alloc);\n",
    "    ptfReturns=np.sum(ptf,1); # Summing across columns\n",
    "    vol_ptf=np.std(ptfReturns);\n",
    "    indiv_ERC=alloc*MCR_calc(alloc,Returns);\n",
    "    criterion=np.power(indiv_ERC-vol_ptf/len(alloc),2)\n",
    "    criterion=np.sum(criterion)*1000000000\n",
    "    return criterion\n",
    "\n",
    "df_ERC = df_final_data_return\n",
    "#del df_ERC['monacoin']\n",
    "#adpt code to manage difference number of crypto\n",
    "\n",
    "def optimizer_ERC(ERC_df):\n",
    "    length = ERC_df.shape[1]\n",
    "    x0 = np.zeros(length)+0.0001 #Set the first weights of the Gradient Descent\n",
    "    #x0 = np.zeros(len(df_ERC))+0.0001\n",
    "\n",
    "    cons=({'type':'eq', 'fun': lambda x:sum(x)-1}) #Sum of weights is equal to 1\n",
    "\n",
    "    Bounds= [(0 , 1) for i in range(0,length)] #Long only positions\n",
    "\n",
    "\n",
    "    #Optimisation\n",
    "    res_ERC = minimize(ERC, x0, method='SLSQP', args=(ERC_df),bounds=Bounds,constraints=cons,options={'disp': False})\n",
    "    return res_ERC.x\n",
    "\n",
    "windows = 120\n",
    "\n",
    "weights_ERC = []\n",
    "for i in tqdm(range(df_ERC.shape[0])):\n",
    "    cov_matrix = df_ERC.iloc[i:windows+i]\n",
    "    weight = optimizer_ERC(cov_matrix)\n",
    "    weights_ERC.append(weight)\n"
   ]
  },
  {
   "cell_type": "code",
   "execution_count": null,
   "metadata": {},
   "outputs": [],
   "source": [
    "df_port_ERC = pd.DataFrame(weights_ERC)\n",
    "df_port_ERC.columns = df_final_data_return.columns\n",
    "df_port_ERC.index = df_final_data_return.index\n",
    "df_port_ERC.head(4)\n"
   ]
  },
  {
   "cell_type": "code",
   "execution_count": null,
   "metadata": {},
   "outputs": [],
   "source": [
    "plt.figure(figsize=(15,7))\n",
    "plt.plot(df_port_ERC.iloc[:-10]) ## problem avec le début et les dernières périodes\n",
    "plt.legend(df_port_ERC.columns, loc=\"lower center\", fancybox=True, shadow=True,ncol=3,bbox_to_anchor=(0.5, -0.45))\n",
    "plt.title(\"Risk Parity weight\")"
   ]
  },
  {
   "cell_type": "code",
   "execution_count": null,
   "metadata": {},
   "outputs": [],
   "source": [
    "fig = px.line(df_port_ERC, x=df_port_ERC.index, y=df_port_ERC.columns, title=\"Risk Parity (Evolution of weights)\") #bug à la fin\n",
    "fig.show()"
   ]
  },
  {
   "cell_type": "code",
   "execution_count": null,
   "metadata": {},
   "outputs": [],
   "source": [
    "portfolio_erc = np.sum(np.multiply(df_final_data_return, df_port_ERC),1)[2:]\n",
    "portfolio_erc = portfolio_erc.drop(portfolio_erc[portfolio_erc.index == pd.to_datetime(\"2018-05-09\") ].index)\n",
    "portfolio_erc = portfolio_erc.drop(portfolio_erc[portfolio_erc.index == pd.to_datetime(\"2018-05-10\") ].index)\n",
    "portfolio_erc"
   ]
  },
  {
   "cell_type": "code",
   "execution_count": null,
   "metadata": {},
   "outputs": [],
   "source": [
    "#bug avec les dernières dates\n",
    "plt.figure(figsize=(15,7))\n",
    "plt.plot((portfolio_erc+1).cumprod()*100)\n",
    "plt.legend(['ERC'],loc='upper left',fontsize='large',fancybox=True, shadow=True)\n",
    "plt.title('Performance of ERC portfolio')\n",
    "plt.show()\n",
    "\n",
    "RP = (portfolio_erc+1).cumprod()*100\n",
    "RP.to_csv(f\"../data/processed/{number_crypto}_price.csv\")"
   ]
  },
  {
   "cell_type": "code",
   "execution_count": null,
   "metadata": {},
   "outputs": [],
   "source": [
    "portfolio_erc.drop(portfolio_erc[portfolio_erc.index < pd.to_datetime(\"2018-05-06\") ].index)"
   ]
  }
 ],
 "metadata": {
  "interpreter": {
   "hash": "6d319961e5615687828239790d82f1aecb2e44088f9418384209f4f3d3ae57d4"
  },
  "kernelspec": {
   "display_name": "Python 3",
   "language": "python",
   "name": "python3"
  },
  "language_info": {
   "codemirror_mode": {
    "name": "ipython",
    "version": 3
   },
   "file_extension": ".py",
   "mimetype": "text/x-python",
   "name": "python",
   "nbconvert_exporter": "python",
   "pygments_lexer": "ipython3",
   "version": "3.8.5"
  }
 },
 "nbformat": 4,
 "nbformat_minor": 2
}
