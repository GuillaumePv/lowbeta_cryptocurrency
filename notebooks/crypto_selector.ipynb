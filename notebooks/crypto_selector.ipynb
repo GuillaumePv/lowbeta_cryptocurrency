{
 "cells": [
  {
   "cell_type": "code",
   "execution_count": 9,
   "metadata": {},
   "outputs": [
    {
     "name": "stderr",
     "output_type": "stream",
     "text": [
      "100%|██████████| 1865/1865 [00:00<00:00, 8125.11it/s] \n"
     ]
    }
   ],
   "source": [
    "import pandas as pd\n",
    "from datetime import datetime\n",
    "from datetime import timedelta\n",
    "\n",
    "from tqdm import tqdm\n",
    "\n",
    "import os\n",
    "import sys\n",
    "import inspect\n",
    "\n",
    "if str(os.getcwd()).split(\"/\")[-1] == \"notebooks\":\n",
    "    sys.path.insert(1, os.path.realpath(os.path.pardir))\n",
    "    path_b = \"../\"\n",
    "else:\n",
    "    path_b ='./'\n",
    "import config as c\n",
    "\n",
    "## create file to know first date of crypto ##\n",
    "crypto = []\n",
    "first_dates = []\n",
    "files = os.listdir(f'{path_b}data/raw/')\n",
    "\n",
    "is_create_file = input('Do you want to create a new file date ? [y/no]')\n",
    "\n",
    "\n",
    "for f in tqdm(files[:]):\n",
    "    try:\n",
    "\n",
    "            #print(f.split(\".\")[0])\n",
    "        df = pd.read_pickle(f\"{path_b}data/raw/{f}\")\n",
    "            #print(df.head(5))\n",
    "        date = datetime.date(df.index[0])\n",
    "        first_dates.append(date)\n",
    "        crypto.append(f.split(\".\")[0])\n",
    "    except Exception:\n",
    "        continue\n",
    "\n",
    "data = {\n",
    "        \"crypto_name\":crypto,\n",
    "        \"first_date\":first_dates\n",
    "}\n",
    "\n",
    "df = pd.DataFrame(data)\n",
    "df = df.sort_values('first_date')\n",
    "df.to_csv('{path_b}data/processed/first_date_crypto_list_sorted.csv')"
   ]
  },
  {
   "cell_type": "markdown",
   "metadata": {},
   "source": [
    "# code to find market cap 1 mio$ date"
   ]
  },
  {
   "cell_type": "code",
   "execution_count": 35,
   "metadata": {},
   "outputs": [
    {
     "name": "stderr",
     "output_type": "stream",
     "text": [
      "100%|██████████| 1865/1865 [00:13<00:00, 140.43it/s]\n"
     ]
    }
   ],
   "source": [
    "test_marketcap = 1e9 #paper ruben\n",
    "\n",
    "list_market_1mio = []\n",
    "list_crypto = []\n",
    "for f in tqdm(files[:]):\n",
    "    try:\n",
    "\n",
    "            #print(f.split(\".\")[0])\n",
    "        df = pd.read_pickle(f\"{path_b}data/raw/{f}\")\n",
    "            #print(df.head(5))\n",
    "        df['Condition'] = df['marketcap'] >= test_marketcap\n",
    "        index = df[df.Condition!=False].first_valid_index()\n",
    "        if index is not None:\n",
    "            date = datetime.date(df.index[0])\n",
    "            list_market_1mio.append(date)\n",
    "            list_crypto.append(f.split(\".\")[0])\n",
    "        \n",
    "    except Exception:\n",
    "        continue\n",
    "\n",
    "data = {\n",
    "        \"crypto_name\":list_crypto,\n",
    "        \"first_date_marketcap_1mio\":list_market_1mio\n",
    "}\n",
    "\n",
    "df_market_cap = pd.DataFrame(data)\n",
    "df_market_cap = df_market_cap.sort_values('first_date_marketcap_1mio')\n",
    "df_market_cap.to_csv('{path_b}data/processed/crypto_date_marketcap_1mio_sorted.csv')"
   ]
  }
 ],
 "metadata": {
  "interpreter": {
   "hash": "6d319961e5615687828239790d82f1aecb2e44088f9418384209f4f3d3ae57d4"
  },
  "kernelspec": {
   "display_name": "Python 3",
   "language": "python",
   "name": "python3"
  },
  "language_info": {
   "codemirror_mode": {
    "name": "ipython",
    "version": 3
   },
   "file_extension": ".py",
   "mimetype": "text/x-python",
   "name": "python",
   "nbconvert_exporter": "python",
   "pygments_lexer": "ipython3",
   "version": "3.8.5"
  }
 },
 "nbformat": 4,
 "nbformat_minor": 2
}
