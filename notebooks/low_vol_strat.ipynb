{
 "cells": [
  {
   "cell_type": "code",
   "execution_count": 1,
   "metadata": {},
   "outputs": [],
   "source": [
    "import pandas as pd\n",
    "pd.set_option('display.max_rows', 2000)\n",
    "from datetime import datetime\n",
    "from datetime import timedelta\n",
    "import numpy as np\n",
    "import matplotlib.pyplot as plt\n",
    "\n",
    "from tqdm import tqdm\n",
    "\n",
    "import os\n",
    "import sys\n",
    "import inspect\n",
    "\n",
    "# code to manage where are lunch the file\n",
    "if str(os.getcwd()).split(\"/\")[-1] == \"notebooks\":\n",
    "    sys.path.insert(1, os.path.realpath(os.path.pardir))\n",
    "    path_b = \"../\"\n",
    "else:\n",
    "    path_b ='./'\n",
    "import config as c"
   ]
  },
  {
   "cell_type": "code",
   "execution_count": 2,
   "metadata": {},
   "outputs": [
    {
     "ename": "AttributeError",
     "evalue": "module 'config' has no attribute 'number_crypto'",
     "output_type": "error",
     "traceback": [
      "\u001b[0;31m---------------------------------------------------------------------------\u001b[0m",
      "\u001b[0;31mAttributeError\u001b[0m                            Traceback (most recent call last)",
      "\u001b[0;32m<ipython-input-2-c30edf22ff10>\u001b[0m in \u001b[0;36m<module>\u001b[0;34m\u001b[0m\n\u001b[1;32m      1\u001b[0m \u001b[0mwindows\u001b[0m \u001b[0;34m=\u001b[0m \u001b[0mc\u001b[0m\u001b[0;34m.\u001b[0m\u001b[0mwindows\u001b[0m\u001b[0;34m\u001b[0m\u001b[0;34m\u001b[0m\u001b[0m\n\u001b[0;32m----> 2\u001b[0;31m \u001b[0mnumber_crypto\u001b[0m \u001b[0;34m=\u001b[0m \u001b[0mc\u001b[0m\u001b[0;34m.\u001b[0m\u001b[0mnumber_crypto\u001b[0m\u001b[0;34m\u001b[0m\u001b[0;34m\u001b[0m\u001b[0m\n\u001b[0m\u001b[1;32m      3\u001b[0m \u001b[0mmarket_cap\u001b[0m \u001b[0;34m=\u001b[0m \u001b[0mc\u001b[0m\u001b[0;34m.\u001b[0m\u001b[0mmarket_cap\u001b[0m\u001b[0;34m\u001b[0m\u001b[0;34m\u001b[0m\u001b[0m\n\u001b[1;32m      4\u001b[0m \u001b[0;34m\u001b[0m\u001b[0m\n\u001b[1;32m      5\u001b[0m \u001b[0mdf\u001b[0m \u001b[0;34m=\u001b[0m \u001b[0mpd\u001b[0m\u001b[0;34m.\u001b[0m\u001b[0mread_csv\u001b[0m\u001b[0;34m(\u001b[0m\u001b[0;34mf\"{path_b}data/processed/market_cap_crypto.csv\"\u001b[0m\u001b[0;34m,\u001b[0m \u001b[0mindex_col\u001b[0m\u001b[0;34m=\u001b[0m\u001b[0;36m0\u001b[0m\u001b[0;34m)\u001b[0m\u001b[0;34m\u001b[0m\u001b[0;34m\u001b[0m\u001b[0m\n",
      "\u001b[0;31mAttributeError\u001b[0m: module 'config' has no attribute 'number_crypto'"
     ]
    }
   ],
   "source": [
    "windows = c.windows\n",
    "number_crypto = c.number_cryptos\n",
    "market_cap = c.market_cap\n",
    "\n",
    "df = pd.read_csv(f\"{path_b}data/processed/market_cap_crypto.csv\", index_col=0)\n",
    "\n",
    "df_close_price = pd.read_csv(f'{path_b}data/processed/close_price_crypto.csv', index_col=0)\n",
    "df_close_price['date'] = pd.to_datetime(df_close_price.index)\n",
    "df_close_price['date'] = df_close_price['date'].dt.date\n",
    "df_close_price.index = df_close_price['date']\n",
    "del df_close_price['date']"
   ]
  },
  {
   "cell_type": "markdown",
   "metadata": {},
   "source": [
    "# processing part Data"
   ]
  },
  {
   "cell_type": "code",
   "execution_count": null,
   "metadata": {
    "scrolled": false
   },
   "outputs": [],
   "source": [
    "## use market cap file\n",
    "\n",
    "df_market_cap = pd.read_csv(f'{path_b}data/processed/crypto_date_marketcap_1mio_sorted.csv', index_col=0)\n",
    "df_market_cap = df_market_cap[df_market_cap.index != 95]\n",
    "df_market_cap = df_market_cap[df_market_cap.index != 37]\n",
    "df_market_cap = df_market_cap[df_market_cap.index != 81]\n",
    "\n",
    "df_market_cap_first_20 = df_market_cap.iloc[:number_crypto]\n",
    "\n",
    "#select last date\n",
    "first_date = df_market_cap_first_20['first_date_marketcap_1mio'].tail(1).values\n",
    "\n",
    "first_date_final = pd.to_datetime(first_date[0])\n",
    "\n",
    "# TODO: change way to do it in the index\n",
    "df_final_data = df_close_price.drop(df_close_price[df_close_price.index < first_date_final].index)\n",
    "#print(df_final_data)\n",
    "df_final_data = df_final_data[df_market_cap_first_20['crypto_name']]\n",
    "df_final_data_return = df_final_data.pct_change().iloc[1:,:].fillna(0)\n",
    "#df_final_data_return"
   ]
  },
  {
   "cell_type": "code",
   "execution_count": null,
   "metadata": {},
   "outputs": [],
   "source": []
  },
  {
   "cell_type": "code",
   "execution_count": null,
   "metadata": {},
   "outputs": [],
   "source": []
  },
  {
   "cell_type": "code",
   "execution_count": null,
   "metadata": {},
   "outputs": [],
   "source": [
    "#Long Asset with Low Vol\n",
    "df_vol = df_final_data_return.rolling(windows).std().dropna()\n",
    "returns_vol_quantile = df_vol.T.apply(lambda x: pd.qcut(x, 5, labels=False, duplicates=\"drop\"), axis=0).T"
   ]
  },
  {
   "cell_type": "code",
   "execution_count": null,
   "metadata": {},
   "outputs": [],
   "source": [
    "for i in returns_vol_quantile.columns:\n",
    "    returns_vol_quantile.loc[returns_vol_quantile[i] == 0, i] = 0.5 # First quantile for vol\n",
    "    returns_vol_quantile.loc[returns_vol_quantile[i] == 1, i] = 0\n",
    "    returns_vol_quantile.loc[returns_vol_quantile[i] == 2, i] = 0\n",
    "    returns_vol_quantile.loc[returns_vol_quantile[i] == 3, i] = 0\n",
    "    returns_vol_quantile.loc[returns_vol_quantile[i] == 4, i] = -0.5\n",
    "\n",
    "## Low Vol part ##\n",
    "returns_low_vol_quantile = returns_vol_quantile.replace(0.5,1)\n",
    "returns_low_vol_quantile = returns_low_vol_quantile.replace(-0.5,0)\n",
    "returns_low_vol_quantile['sum'] = returns_low_vol_quantile.sum(axis=1)\n",
    "\n",
    "#better to do things => here Low Vol portfolio\n",
    "# Do the same things about High vol\n",
    "for i in tqdm(returns_low_vol_quantile.index):\n",
    "    number = returns_low_vol_quantile['sum'].loc[i]\n",
    "    for column in returns_low_vol_quantile.columns:\n",
    "        returns_low_vol_quantile[column].loc[i] = returns_low_vol_quantile[column].loc[i] / number\n",
    "del returns_low_vol_quantile['sum']\n",
    "\n",
    "## High Vol part ##\n",
    "\n",
    "returns_high_vol_quantile = returns_vol_quantile.replace(-0.5,1)\n",
    "returns_high_vol_quantile = returns_high_vol_quantile.replace(0.5,0)\n",
    "returns_high_vol_quantile['sum'] = returns_high_vol_quantile.sum(axis=1)\n",
    "\n",
    "#better to do things => here Low Vol portfolio\n",
    "# Do the same things about High vol\n",
    "for i in tqdm(returns_high_vol_quantile.index):\n",
    "    number = returns_high_vol_quantile['sum'].loc[i]\n",
    "    for column in returns_high_vol_quantile.columns:\n",
    "        returns_high_vol_quantile[column].loc[i] = returns_high_vol_quantile[column].loc[i] / number\n",
    "del returns_high_vol_quantile['sum']"
   ]
  },
  {
   "cell_type": "code",
   "execution_count": null,
   "metadata": {},
   "outputs": [],
   "source": [
    "# TODO: debug return\n",
    "\n",
    "df_final_data_return = df_final_data_return.loc[returns_low_vol_quantile.index,:]\n",
    "low_vol_return = np.multiply(df_final_data_return, returns_low_vol_quantile)\n",
    "low_vol_perf = np.sum(low_vol_return,1)\n",
    "\n",
    "high_vol_return = np.multiply(df_final_data_return, returns_high_vol_quantile)\n",
    "high_vol_perf = np.sum(high_vol_return,1)"
   ]
  },
  {
   "cell_type": "code",
   "execution_count": null,
   "metadata": {},
   "outputs": [],
   "source": [
    "plt.figure(figsize=(15,7))\n",
    "low_vol = (low_vol_perf+1).cumprod()*100\n",
    "\n",
    "high_vol = (high_vol_perf+1).cumprod()*100\n",
    "\n",
    "plt.plot(low_vol)\n",
    "plt.plot(high_vol)\n",
    "plt.legend(['Low Vol', 'High vol'],loc='upper left',fontsize='large',fancybox=True, shadow=True)\n",
    "plt.show()"
   ]
  },
  {
   "cell_type": "code",
   "execution_count": null,
   "metadata": {},
   "outputs": [],
   "source": [
    "plt.figure(figsize=(15,7))\n",
    "plt.plot(high_vol)\n",
    "plt.legend(['High vol'],loc='upper left',fontsize='large',fancybox=True, shadow=True)\n",
    "plt.show()\n",
    "print(high_vol)"
   ]
  }
 ],
 "metadata": {
  "interpreter": {
   "hash": "6d319961e5615687828239790d82f1aecb2e44088f9418384209f4f3d3ae57d4"
  },
  "kernelspec": {
   "display_name": "Python 3",
   "language": "python",
   "name": "python3"
  },
  "language_info": {
   "codemirror_mode": {
    "name": "ipython",
    "version": 3
   },
   "file_extension": ".py",
   "mimetype": "text/x-python",
   "name": "python",
   "nbconvert_exporter": "python",
   "pygments_lexer": "ipython3",
   "version": "3.8.5"
  }
 },
 "nbformat": 4,
 "nbformat_minor": 2
}
