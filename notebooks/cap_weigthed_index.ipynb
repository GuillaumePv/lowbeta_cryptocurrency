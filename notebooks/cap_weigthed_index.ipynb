{
 "cells": [
  {
   "cell_type": "code",
   "execution_count": 1,
   "metadata": {},
   "outputs": [],
   "source": [
    "import pandas as pd\n",
    "from datetime import datetime\n",
    "from datetime import timedelta\n",
    "import numpy as np\n",
    "import matplotlib.pyplot as plt\n",
    "from matplotlib import style\n",
    "style.use('fivethirtyeight')\n",
    "\n",
    "import plotly.express as px\n",
    "\n",
    "import os\n",
    "import sys\n",
    "\n",
    "from scipy.optimize import minimize\n",
    "# code to manage where are lunch the file\n",
    "if str(os.getcwd()).split(\"/\")[-1] == \"notebooks\":\n",
    "    sys.path.insert(1, os.path.realpath(os.path.pardir))\n",
    "    path_b = \"../\"\n",
    "else:\n",
    "    path_b ='./'\n",
    "import config as c"
   ]
  },
  {
   "cell_type": "code",
   "execution_count": 2,
   "metadata": {},
   "outputs": [
    {
     "ename": "AttributeError",
     "evalue": "module 'config' has no attribute 'number_cyptos'",
     "output_type": "error",
     "traceback": [
      "\u001b[0;31m---------------------------------------------------------------------------\u001b[0m",
      "\u001b[0;31mAttributeError\u001b[0m                            Traceback (most recent call last)",
      "\u001b[0;32m<ipython-input-2-2bfd84a8d119>\u001b[0m in \u001b[0;36m<module>\u001b[0;34m\u001b[0m\n\u001b[1;32m      1\u001b[0m \u001b[0mwindows\u001b[0m \u001b[0;34m=\u001b[0m \u001b[0mc\u001b[0m\u001b[0;34m.\u001b[0m\u001b[0mwindows\u001b[0m\u001b[0;34m\u001b[0m\u001b[0;34m\u001b[0m\u001b[0m\n\u001b[0;32m----> 2\u001b[0;31m \u001b[0mnumber_crypto\u001b[0m \u001b[0;34m=\u001b[0m \u001b[0mc\u001b[0m\u001b[0;34m.\u001b[0m\u001b[0mnumber_cyptos\u001b[0m\u001b[0;34m\u001b[0m\u001b[0;34m\u001b[0m\u001b[0m\n\u001b[0m\u001b[1;32m      3\u001b[0m \u001b[0mmarket_cap\u001b[0m \u001b[0;34m=\u001b[0m \u001b[0mc\u001b[0m\u001b[0;34m.\u001b[0m\u001b[0mmarket_cap\u001b[0m\u001b[0;34m\u001b[0m\u001b[0;34m\u001b[0m\u001b[0m\n\u001b[1;32m      4\u001b[0m \u001b[0;34m\u001b[0m\u001b[0m\n\u001b[1;32m      5\u001b[0m \u001b[0mdf_name_index\u001b[0m \u001b[0;34m=\u001b[0m \u001b[0mpd\u001b[0m\u001b[0;34m.\u001b[0m\u001b[0mread_csv\u001b[0m\u001b[0;34m(\u001b[0m\u001b[0;34mf\"{path_b}data/processed/first_{number_crypto}_crypto_list.csv\"\u001b[0m\u001b[0;34m,\u001b[0m \u001b[0mindex_col\u001b[0m\u001b[0;34m=\u001b[0m\u001b[0;36m0\u001b[0m\u001b[0;34m)\u001b[0m\u001b[0;34m\u001b[0m\u001b[0;34m\u001b[0m\u001b[0m\n",
      "\u001b[0;31mAttributeError\u001b[0m: module 'config' has no attribute 'number_cyptos'"
     ]
    }
   ],
   "source": [
    "windows = c.windows\n",
    "number_crypto = c.number_cryptos\n",
    "market_cap = c.market_cap\n",
    "\n",
    "df_name_index = pd.read_csv(f\"{path_b}data/processed/first_{number_crypto}_crypto_list.csv\", index_col=0)\n",
    "df = pd.read_csv(f\"{path_b}data/processed/market_cap_crypto.csv\", index_col=0)\n",
    "df['date'] = pd.to_datetime(df.index)\n",
    "df['date'] = df['date'].dt.date\n",
    "df.index = df['date']\n",
    "del df['date']\n",
    "\n",
    "df_close_price = pd.read_csv(f'{path_b}data/processed/close_price_crypto.csv', index_col=0)\n",
    "df_close_price['date'] = pd.to_datetime(df_close_price.index)\n",
    "df_close_price['date'] = df_close_price['date'].dt.date\n",
    "df_close_price.index = df_close_price['date']\n",
    "del df_close_price['date']\n",
    "\n",
    "## use market cap file\n",
    "\n",
    "df_market_cap = pd.read_csv(f'{path_b}data/processed/crypto_date_marketcap_sorted.csv', index_col=0)\n",
    "\n",
    "\n",
    "df_market_cap_first_20 = df_market_cap.iloc[:number_crypto]\n",
    "\n",
    "#select last date\n",
    "first_date = df_market_cap_first_20['first_date_marketcap'].tail(1).values\n",
    "\n",
    "first_date_final = pd.to_datetime(first_date[0])\n",
    "\n",
    "df_final_data = df_close_price.drop(df_close_price[df_close_price.index < first_date_final].index)\n",
    "df_final_data = df_final_data[df_market_cap_first_20['crypto_name']]\n",
    "\n",
    "df_final_market_cap = df.drop(df[df.index < first_date_final].index)\n",
    "df_final_market_cap = df_final_market_cap[df_market_cap_first_20['crypto_name']]\n",
    "\n",
    "df_final_data_return = np.log(df_final_data/df_final_data.shift(1)).dropna()"
   ]
  },
  {
   "cell_type": "code",
   "execution_count": null,
   "metadata": {},
   "outputs": [],
   "source": [
    "df_final_market_cap['sum'] = df_final_market_cap.sum(axis=1)\n",
    "df_final_market_cap.head(4)"
   ]
  },
  {
   "cell_type": "code",
   "execution_count": null,
   "metadata": {},
   "outputs": [],
   "source": [
    "columns = df_final_market_cap.columns[:-1]\n",
    "\n",
    "df_weight_cap_weigthed= df_final_market_cap[columns]\n",
    "\n",
    "for column in df_weight_cap_weigthed.columns:\n",
    "    df_weight_cap_weigthed[column] = df_weight_cap_weigthed[column] / df_final_market_cap['sum']"
   ]
  },
  {
   "cell_type": "code",
   "execution_count": null,
   "metadata": {},
   "outputs": [],
   "source": [
    "plt.figure(figsize=(15,10))\n",
    "plt.plot(df_weight_cap_weigthed)\n",
    "plt.legend(df_weight_cap_weigthed, loc=\"lower center\", fancybox=True, shadow=True,ncol=4,bbox_to_anchor=(0.5, -0.25))\n",
    "plt.title(\"Cap_weighted (Evolution of weights)\")"
   ]
  },
  {
   "cell_type": "code",
   "execution_count": null,
   "metadata": {},
   "outputs": [],
   "source": [
    "# voir pour comparer bitcoin avec les autres crypto (peut être agréger les cryptos)\n",
    "fig = px.line(df_weight_cap_weigthed, x=df_weight_cap_weigthed.index, y=df_weight_cap_weigthed.columns, title=\"Cap_weighted (Evolution of weights)\",labels={'value':'weight'})\n",
    "fig.show()"
   ]
  },
  {
   "cell_type": "code",
   "execution_count": null,
   "metadata": {},
   "outputs": [],
   "source": [
    "fig = px.scatter(df_weight_cap_weigthed['bitcoin'], x=df_weight_cap_weigthed['bitcoin'].index, y='bitcoin', title=\"Bitcoin (% of market cap)\",labels={'bitcoin': \"% of market cap\"})\n",
    "fig.show()"
   ]
  },
  {
   "cell_type": "code",
   "execution_count": null,
   "metadata": {},
   "outputs": [],
   "source": [
    "print(df_final_data_return.shape)\n",
    "print(df_weight_cap_weigthed.shape)\n",
    "print(df_weight_cap_weigthed.shape[0] - df_final_data_return.shape[0])\n",
    "\n",
    "diff = df_weight_cap_weigthed.shape[0] - df_final_data_return.shape[0]"
   ]
  },
  {
   "cell_type": "code",
   "execution_count": null,
   "metadata": {},
   "outputs": [],
   "source": [
    "port_cap_weigthed = pd.DataFrame(np.sum(np.multiply(df_final_data_return, df_weight_cap_weigthed.iloc[diff:]),1)[2:],columns=['perf'])\n",
    "port_cap_weigthed = port_cap_weigthed.drop(port_cap_weigthed[port_cap_weigthed.index == pd.to_datetime(\"2018-05-10\") ].index)"
   ]
  },
  {
   "cell_type": "code",
   "execution_count": null,
   "metadata": {},
   "outputs": [],
   "source": [
    "plt.figure(figsize=(15,7))\n",
    "plt.plot((port_cap_weigthed['perf']+1).cumprod()*100)\n",
    "plt.legend(['Cap weigthed Index'],loc='upper left',fontsize='large',fancybox=True, shadow=True)\n",
    "plt.title('Performance of Cap Weigthed Index')\n",
    "plt.show()"
   ]
  },
  {
   "cell_type": "code",
   "execution_count": null,
   "metadata": {},
   "outputs": [],
   "source": [
    "perf = (port_cap_weigthed['perf'].add(1)).cumprod()*100\n",
    "fig = px.line(perf, x=perf.index, y=perf, title=\"Performance Cap Weigthed Index\", labels={'y':'Performance (basis 100)'})\n",
    "fig.show()"
   ]
  },
  {
   "cell_type": "code",
   "execution_count": null,
   "metadata": {},
   "outputs": [],
   "source": [
    "df_test = pd.DataFrame((port_cap_weigthed+1).cumprod())\n",
    "df_test.columns = ['cum_perf']\n",
    "# df_test\n",
    "df_test.drop(df_test[df_test.cum_perf != np.inf ].index)\n",
    "#2018-05-09\t-> bug à 2018-05-10 (inf)"
   ]
  },
  {
   "cell_type": "code",
   "execution_count": null,
   "metadata": {},
   "outputs": [],
   "source": [
    "df_perf_test = pd.DataFrame(port_cap_weigthed)\n",
    "df_perf_test.columns = ['perf']\n",
    "final = df_perf_test.drop(df_perf_test[df_perf_test.index == pd.to_datetime(\"2018-05-10\") ].index)\n",
    "\n",
    "plt.plot((final['perf'].add(1).cumprod()*100))\n",
    "\n",
    "CW = final['perf'].add(1).cumprod()*100\n",
    "CW.to_csv(f\"../data/processed/CW_{number_crypto}_price.csv\")"
   ]
  }
 ],
 "metadata": {
  "interpreter": {
   "hash": "6d319961e5615687828239790d82f1aecb2e44088f9418384209f4f3d3ae57d4"
  },
  "kernelspec": {
   "display_name": "Python 3",
   "language": "python",
   "name": "python3"
  },
  "language_info": {
   "codemirror_mode": {
    "name": "ipython",
    "version": 3
   },
   "file_extension": ".py",
   "mimetype": "text/x-python",
   "name": "python",
   "nbconvert_exporter": "python",
   "pygments_lexer": "ipython3",
   "version": "3.8.5"
  }
 },
 "nbformat": 4,
 "nbformat_minor": 2
}
