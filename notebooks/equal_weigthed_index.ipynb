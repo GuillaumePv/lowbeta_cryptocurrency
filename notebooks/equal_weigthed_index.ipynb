{
 "cells": [
  {
   "cell_type": "code",
   "execution_count": 1,
   "metadata": {},
   "outputs": [],
   "source": [
    "import pandas as pd\n",
    "from datetime import datetime\n",
    "from datetime import timedelta\n",
    "import numpy as np\n",
    "import matplotlib.pyplot as plt\n",
    "from matplotlib import style\n",
    "style.use('fivethirtyeight')\n",
    "\n",
    "import plotly.express as px\n",
    "\n",
    "import os\n",
    "import sys\n",
    "\n",
    "from scipy.optimize import minimize\n",
    "# code to manage where are lunch the file\n",
    "if str(os.getcwd()).split(\"/\")[-1] == \"notebooks\":\n",
    "    sys.path.insert(1, os.path.realpath(os.path.pardir))\n",
    "    path_b = \"../\"\n",
    "else:\n",
    "    path_b ='./'\n",
    "import config as c"
   ]
  },
  {
   "cell_type": "code",
   "execution_count": 2,
   "metadata": {},
   "outputs": [
    {
     "name": "stderr",
     "output_type": "stream",
     "text": [
      "/Applications/anaconda3/lib/python3.8/site-packages/pandas/core/ops/array_ops.py:73: FutureWarning: Comparison of Timestamp with datetime.date is deprecated in order to match the standard library behavior.  In a future version these will be considered non-comparable.Use 'ts == pd.Timestamp(date)' or 'ts.date() == date' instead.\n",
      "  result = libops.scalar_compare(x.ravel(), y, op)\n"
     ]
    }
   ],
   "source": [
    "windows = c.windows\n",
    "number_crypto = c.number_cryptos\n",
    "market_cap = c.market_cap\n",
    "\n",
    "df_name_index = pd.read_csv(f\"{path_b}data/processed/first_{number_crypto}_crypto_list.csv\", index_col=0)\n",
    "df = pd.read_csv(f\"{path_b}data/processed/market_cap_crypto.csv\", index_col=0)\n",
    "\n",
    "df_close_price = pd.read_csv(f'{path_b}data/processed/close_price_crypto.csv', index_col=0)\n",
    "df_close_price['date'] = pd.to_datetime(df_close_price.index)\n",
    "df_close_price['date'] = df_close_price['date'].dt.date\n",
    "df_close_price.index = df_close_price['date']\n",
    "del df_close_price['date']\n",
    "\n",
    "## use market cap file\n",
    "\n",
    "df_market_cap = pd.read_csv(f'{path_b}data/processed/crypto_date_marketcap_sorted.csv', index_col=0)\n",
    "\n",
    "\n",
    "df_market_cap_first_20 = df_market_cap.iloc[:number_crypto]\n",
    "\n",
    "#select last date\n",
    "first_date = df_market_cap_first_20['first_date_marketcap'].tail(1).values\n",
    "\n",
    "first_date_final = pd.to_datetime(first_date[0])\n",
    "\n",
    "df_final_data = df_close_price.drop(df_close_price[df_close_price.index < first_date_final].index)\n",
    "df_final_data = df_final_data[df_market_cap_first_20['crypto_name']]\n",
    "df_final_data_return = np.log(df_final_data/df_final_data.shift(1)).dropna()"
   ]
  },
  {
   "cell_type": "code",
   "execution_count": 3,
   "metadata": {},
   "outputs": [],
   "source": [
    "df_weigths = df_final_data_return.applymap(lambda x: 1/number_crypto) #\n",
    "port_equal_weigthed = np.sum(np.multiply(df_final_data_return, df_weigths),1)[2:]\n",
    "#bug avec ces deux dates\n",
    "port_equal_weigthed = port_equal_weigthed.drop(port_equal_weigthed[port_equal_weigthed.index == pd.to_datetime(\"2018-05-09\") ].index)\n",
    "port_equal_weigthed = port_equal_weigthed.drop(port_equal_weigthed[port_equal_weigthed.index == pd.to_datetime(\"2018-05-10\") ].index)"
   ]
  },
  {
   "cell_type": "code",
   "execution_count": 8,
   "metadata": {},
   "outputs": [
    {
     "ename": "SyntaxError",
     "evalue": "unmatched ')' (<ipython-input-8-a334319f33b0>, line 7)",
     "output_type": "error",
     "traceback": [
      "\u001b[0;36m  File \u001b[0;32m\"<ipython-input-8-a334319f33b0>\"\u001b[0;36m, line \u001b[0;32m7\u001b[0m\n\u001b[0;31m    EW = port_equal_weigthed+1).cumprod()*100\u001b[0m\n\u001b[0m                              ^\u001b[0m\n\u001b[0;31mSyntaxError\u001b[0m\u001b[0;31m:\u001b[0m unmatched ')'\n"
     ]
    }
   ],
   "source": [
    "plt.figure(figsize=(15,7))\n",
    "plt.plot((port_equal_weigthed+1).cumprod()*100)\n",
    "plt.legend(['Equally weigthed Index'],loc='upper left',fontsize='large',fancybox=True, shadow=True)\n",
    "plt.title('Performance of Equally weigthed Index')\n",
    "plt.show()\n",
    "\n",
    "EW = port_equal_weigthed+1).cumprod()*100\n",
    "EW.to_csv(f\"../data/processed/EW_{number_crypto}_price.csv\")"
   ]
  },
  {
   "cell_type": "markdown",
   "metadata": {},
   "source": [
    "# Debug pour les dates"
   ]
  },
  {
   "cell_type": "code",
   "execution_count": 5,
   "metadata": {},
   "outputs": [
    {
     "data": {
      "text/html": [
       "<div>\n",
       "<style scoped>\n",
       "    .dataframe tbody tr th:only-of-type {\n",
       "        vertical-align: middle;\n",
       "    }\n",
       "\n",
       "    .dataframe tbody tr th {\n",
       "        vertical-align: top;\n",
       "    }\n",
       "\n",
       "    .dataframe thead th {\n",
       "        text-align: right;\n",
       "    }\n",
       "</style>\n",
       "<table border=\"1\" class=\"dataframe\">\n",
       "  <thead>\n",
       "    <tr style=\"text-align: right;\">\n",
       "      <th></th>\n",
       "      <th>cum_perf</th>\n",
       "    </tr>\n",
       "    <tr>\n",
       "      <th>date</th>\n",
       "      <th></th>\n",
       "    </tr>\n",
       "  </thead>\n",
       "  <tbody>\n",
       "    <tr>\n",
       "      <th>2019-02-02</th>\n",
       "      <td>1.013956</td>\n",
       "    </tr>\n",
       "    <tr>\n",
       "      <th>2019-02-03</th>\n",
       "      <td>0.987440</td>\n",
       "    </tr>\n",
       "    <tr>\n",
       "      <th>2019-02-04</th>\n",
       "      <td>0.996789</td>\n",
       "    </tr>\n",
       "    <tr>\n",
       "      <th>2019-02-05</th>\n",
       "      <td>1.002991</td>\n",
       "    </tr>\n",
       "    <tr>\n",
       "      <th>2019-02-06</th>\n",
       "      <td>0.974366</td>\n",
       "    </tr>\n",
       "    <tr>\n",
       "      <th>...</th>\n",
       "      <td>...</td>\n",
       "    </tr>\n",
       "    <tr>\n",
       "      <th>2021-10-13</th>\n",
       "      <td>3.607941</td>\n",
       "    </tr>\n",
       "    <tr>\n",
       "      <th>2021-10-14</th>\n",
       "      <td>3.637484</td>\n",
       "    </tr>\n",
       "    <tr>\n",
       "      <th>2021-10-15</th>\n",
       "      <td>3.690066</td>\n",
       "    </tr>\n",
       "    <tr>\n",
       "      <th>2021-10-16</th>\n",
       "      <td>3.686230</td>\n",
       "    </tr>\n",
       "    <tr>\n",
       "      <th>2021-10-17</th>\n",
       "      <td>3.689616</td>\n",
       "    </tr>\n",
       "  </tbody>\n",
       "</table>\n",
       "<p>989 rows × 1 columns</p>\n",
       "</div>"
      ],
      "text/plain": [
       "            cum_perf\n",
       "date                \n",
       "2019-02-02  1.013956\n",
       "2019-02-03  0.987440\n",
       "2019-02-04  0.996789\n",
       "2019-02-05  1.002991\n",
       "2019-02-06  0.974366\n",
       "...              ...\n",
       "2021-10-13  3.607941\n",
       "2021-10-14  3.637484\n",
       "2021-10-15  3.690066\n",
       "2021-10-16  3.686230\n",
       "2021-10-17  3.689616\n",
       "\n",
       "[989 rows x 1 columns]"
      ]
     },
     "execution_count": 5,
     "metadata": {},
     "output_type": "execute_result"
    }
   ],
   "source": [
    "df_test = pd.DataFrame((port_equal_weigthed+1).cumprod())\n",
    "df_test.columns = ['cum_perf']\n",
    "# df_test\n",
    "df_test.drop(df_test[df_test.cum_perf == -np.inf ].index)"
   ]
  },
  {
   "cell_type": "code",
   "execution_count": 6,
   "metadata": {},
   "outputs": [
    {
     "name": "stderr",
     "output_type": "stream",
     "text": [
      "/Applications/anaconda3/lib/python3.8/site-packages/pandas/core/ops/array_ops.py:73: FutureWarning: Comparison of Timestamp with datetime.date is deprecated in order to match the standard library behavior.  In a future version these will be considered non-comparable.Use 'ts == pd.Timestamp(date)' or 'ts.date() == date' instead.\n",
      "  result = libops.scalar_compare(x.ravel(), y, op)\n"
     ]
    },
    {
     "data": {
      "text/plain": [
       "date\n",
       "2019-02-02    0.013956\n",
       "2019-02-03   -0.026151\n",
       "2019-02-04    0.009467\n",
       "2019-02-05    0.006223\n",
       "2019-02-06   -0.028540\n",
       "                ...   \n",
       "2021-10-13    0.031585\n",
       "2021-10-14    0.008188\n",
       "2021-10-15    0.014456\n",
       "2021-10-16   -0.001040\n",
       "2021-10-17    0.000919\n",
       "Length: 989, dtype: float64"
      ]
     },
     "execution_count": 6,
     "metadata": {},
     "output_type": "execute_result"
    }
   ],
   "source": [
    "port_equal_weigthed.drop(port_equal_weigthed[port_equal_weigthed.index < pd.to_datetime(\"2018-05-06\") ].index)"
   ]
  },
  {
   "cell_type": "code",
   "execution_count": 7,
   "metadata": {},
   "outputs": [
    {
     "data": {
      "text/plain": [
       "date\n",
       "2019-02-02    1.013956\n",
       "2019-02-03    0.987440\n",
       "2019-02-04    0.996789\n",
       "2019-02-05    1.002991\n",
       "2019-02-06    0.974366\n",
       "                ...   \n",
       "2021-10-13    3.607941\n",
       "2021-10-14    3.637484\n",
       "2021-10-15    3.690066\n",
       "2021-10-16    3.686230\n",
       "2021-10-17    3.689616\n",
       "Length: 989, dtype: float64"
      ]
     },
     "execution_count": 7,
     "metadata": {},
     "output_type": "execute_result"
    }
   ],
   "source": [
    "(port_equal_weigthed+1).cumprod()"
   ]
  }
 ],
 "metadata": {
  "interpreter": {
   "hash": "6d319961e5615687828239790d82f1aecb2e44088f9418384209f4f3d3ae57d4"
  },
  "kernelspec": {
   "display_name": "Python 3",
   "language": "python",
   "name": "python3"
  },
  "language_info": {
   "codemirror_mode": {
    "name": "ipython",
    "version": 3
   },
   "file_extension": ".py",
   "mimetype": "text/x-python",
   "name": "python",
   "nbconvert_exporter": "python",
   "pygments_lexer": "ipython3",
   "version": "3.8.5"
  }
 },
 "nbformat": 4,
 "nbformat_minor": 2
}
